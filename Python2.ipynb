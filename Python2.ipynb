{
  "nbformat": 4,
  "nbformat_minor": 0,
  "metadata": {
    "colab": {
      "provenance": [],
      "authorship_tag": "ABX9TyOmP2aDrRQU2hpUhNrlzLFR",
      "include_colab_link": true
    },
    "kernelspec": {
      "name": "python3",
      "display_name": "Python 3"
    },
    "language_info": {
      "name": "python"
    }
  },
  "cells": [
    {
      "cell_type": "markdown",
      "metadata": {
        "id": "view-in-github",
        "colab_type": "text"
      },
      "source": [
        "<a href=\"https://colab.research.google.com/github/SaipoojithaNamani/python2/blob/main/Python2.ipynb\" target=\"_parent\"><img src=\"https://colab.research.google.com/assets/colab-badge.svg\" alt=\"Open In Colab\"/></a>"
      ]
    },
    {
      "cell_type": "code",
      "execution_count": null,
      "metadata": {
        "id": "ozOLKh_lVGEz"
      },
      "outputs": [],
      "source": [
        "# List tuple set dictionary"
      ]
    },
    {
      "cell_type": "code",
      "source": [
        "a = [44,76,55,85,95,23]\n",
        "a"
      ],
      "metadata": {
        "colab": {
          "base_uri": "https://localhost:8080/"
        },
        "id": "hN0D8cjvVM0J",
        "outputId": "3443d03e-63d2-4c6b-aae0-df9fd8a4b981"
      },
      "execution_count": null,
      "outputs": [
        {
          "output_type": "execute_result",
          "data": {
            "text/plain": [
              "[44, 76, 55, 85, 95, 23]"
            ]
          },
          "metadata": {},
          "execution_count": 2
        }
      ]
    },
    {
      "cell_type": "code",
      "source": [
        "type(a)"
      ],
      "metadata": {
        "colab": {
          "base_uri": "https://localhost:8080/"
        },
        "id": "TAhk2z8DWWiF",
        "outputId": "b7709f0f-b4aa-4d51-8473-a0bbbd102133"
      },
      "execution_count": null,
      "outputs": [
        {
          "output_type": "execute_result",
          "data": {
            "text/plain": [
              "list"
            ]
          },
          "metadata": {},
          "execution_count": 3
        }
      ]
    },
    {
      "cell_type": "code",
      "source": [
        "y = [465, \"Hyderabad\",19,True,150.9,\"NewYork\"]\n",
        "y"
      ],
      "metadata": {
        "colab": {
          "base_uri": "https://localhost:8080/"
        },
        "id": "IdGlag8iWduP",
        "outputId": "c8b4ee74-7aac-415d-cfa8-f502fdcd6ebb"
      },
      "execution_count": null,
      "outputs": [
        {
          "output_type": "execute_result",
          "data": {
            "text/plain": [
              "[465, 'Hyderabad', 19, True, 150.9, 'NewYork']"
            ]
          },
          "metadata": {},
          "execution_count": 4
        }
      ]
    },
    {
      "cell_type": "code",
      "source": [
        "#indexing\n",
        "y[5]"
      ],
      "metadata": {
        "colab": {
          "base_uri": "https://localhost:8080/",
          "height": 35
        },
        "id": "7Q0jELKTW8u_",
        "outputId": "87e7e15c-377b-4b3b-d76a-8bb54d705f99"
      },
      "execution_count": null,
      "outputs": [
        {
          "output_type": "execute_result",
          "data": {
            "text/plain": [
              "'NewYork'"
            ],
            "application/vnd.google.colaboratory.intrinsic+json": {
              "type": "string"
            }
          },
          "metadata": {},
          "execution_count": 5
        }
      ]
    },
    {
      "cell_type": "code",
      "source": [
        "y[-6]"
      ],
      "metadata": {
        "colab": {
          "base_uri": "https://localhost:8080/"
        },
        "id": "_59dwD3oXA9b",
        "outputId": "e576d3b4-8dd1-4304-de3b-d5cd8d2b46da"
      },
      "execution_count": null,
      "outputs": [
        {
          "output_type": "execute_result",
          "data": {
            "text/plain": [
              "465"
            ]
          },
          "metadata": {},
          "execution_count": 6
        }
      ]
    },
    {
      "cell_type": "code",
      "source": [
        "#Slicing\n",
        "y[1:5]"
      ],
      "metadata": {
        "colab": {
          "base_uri": "https://localhost:8080/"
        },
        "id": "4CaeKfLsXcP5",
        "outputId": "34080697-b715-47d1-809b-66af98aacf8a"
      },
      "execution_count": null,
      "outputs": [
        {
          "output_type": "execute_result",
          "data": {
            "text/plain": [
              "['Hyderabad', 19, True, 150.9]"
            ]
          },
          "metadata": {},
          "execution_count": 7
        }
      ]
    },
    {
      "cell_type": "code",
      "source": [
        "y[3:5]"
      ],
      "metadata": {
        "colab": {
          "base_uri": "https://localhost:8080/"
        },
        "id": "7ohGqhOeX6aV",
        "outputId": "8c6cb663-9837-4a41-a249-abff1ca35d49"
      },
      "execution_count": null,
      "outputs": [
        {
          "output_type": "execute_result",
          "data": {
            "text/plain": [
              "[True, 150.9]"
            ]
          },
          "metadata": {},
          "execution_count": 8
        }
      ]
    },
    {
      "cell_type": "code",
      "source": [
        "y[2:7]"
      ],
      "metadata": {
        "colab": {
          "base_uri": "https://localhost:8080/"
        },
        "id": "onfCUwxcYK9f",
        "outputId": "59342968-4754-4e41-e935-31c66a5446f4"
      },
      "execution_count": null,
      "outputs": [
        {
          "output_type": "execute_result",
          "data": {
            "text/plain": [
              "[19, True, 150.9, 'NewYork']"
            ]
          },
          "metadata": {},
          "execution_count": 9
        }
      ]
    },
    {
      "cell_type": "code",
      "source": [
        "y[4:-5]"
      ],
      "metadata": {
        "colab": {
          "base_uri": "https://localhost:8080/"
        },
        "id": "PNxlV1IuYSsI",
        "outputId": "7c8e14a5-021f-4e5e-bd62-c126cc031931"
      },
      "execution_count": null,
      "outputs": [
        {
          "output_type": "execute_result",
          "data": {
            "text/plain": [
              "[]"
            ]
          },
          "metadata": {},
          "execution_count": 10
        }
      ]
    },
    {
      "cell_type": "code",
      "source": [
        "y[-6:3]"
      ],
      "metadata": {
        "colab": {
          "base_uri": "https://localhost:8080/"
        },
        "id": "Cz7a9xOuY0c3",
        "outputId": "2a5a59ca-8d12-46ce-9f46-bf4131ad6951"
      },
      "execution_count": null,
      "outputs": [
        {
          "output_type": "execute_result",
          "data": {
            "text/plain": [
              "[465, 'Hyderabad', 19]"
            ]
          },
          "metadata": {},
          "execution_count": 11
        }
      ]
    },
    {
      "cell_type": "code",
      "source": [
        "y[-1]"
      ],
      "metadata": {
        "colab": {
          "base_uri": "https://localhost:8080/",
          "height": 35
        },
        "id": "lNvtPqZAY4wI",
        "outputId": "f2f4cdd1-1da7-4085-f40e-f6379842db45"
      },
      "execution_count": null,
      "outputs": [
        {
          "output_type": "execute_result",
          "data": {
            "text/plain": [
              "'NewYork'"
            ],
            "application/vnd.google.colaboratory.intrinsic+json": {
              "type": "string"
            }
          },
          "metadata": {},
          "execution_count": 12
        }
      ]
    },
    {
      "cell_type": "code",
      "source": [
        "y[0]"
      ],
      "metadata": {
        "colab": {
          "base_uri": "https://localhost:8080/"
        },
        "id": "YjXedXJAacfz",
        "outputId": "44895d36-5d9a-4137-c67a-76642be9cccb"
      },
      "execution_count": null,
      "outputs": [
        {
          "output_type": "execute_result",
          "data": {
            "text/plain": [
              "465"
            ]
          },
          "metadata": {},
          "execution_count": 13
        }
      ]
    },
    {
      "cell_type": "code",
      "source": [
        "y[4]"
      ],
      "metadata": {
        "colab": {
          "base_uri": "https://localhost:8080/"
        },
        "id": "HiZ41FG6adhM",
        "outputId": "76717a40-d09d-4792-edcc-3396d2a6970f"
      },
      "execution_count": null,
      "outputs": [
        {
          "output_type": "execute_result",
          "data": {
            "text/plain": [
              "150.9"
            ]
          },
          "metadata": {},
          "execution_count": 14
        }
      ]
    },
    {
      "cell_type": "code",
      "source": [
        "y[0:5]"
      ],
      "metadata": {
        "colab": {
          "base_uri": "https://localhost:8080/"
        },
        "id": "SBuV3mW1afTb",
        "outputId": "05928496-1006-4513-8f00-37dea362d1ae"
      },
      "execution_count": null,
      "outputs": [
        {
          "output_type": "execute_result",
          "data": {
            "text/plain": [
              "[465, 'Hyderabad', 19, True, 150.9]"
            ]
          },
          "metadata": {},
          "execution_count": 15
        }
      ]
    },
    {
      "cell_type": "code",
      "source": [
        "y[3:2:5]"
      ],
      "metadata": {
        "colab": {
          "base_uri": "https://localhost:8080/"
        },
        "id": "KJAVsp6QbCB5",
        "outputId": "9b61467d-f488-497d-baee-fb8c6c116b00"
      },
      "execution_count": null,
      "outputs": [
        {
          "output_type": "execute_result",
          "data": {
            "text/plain": [
              "[]"
            ]
          },
          "metadata": {},
          "execution_count": 16
        }
      ]
    },
    {
      "cell_type": "code",
      "source": [
        "y[6:3:2]"
      ],
      "metadata": {
        "colab": {
          "base_uri": "https://localhost:8080/"
        },
        "id": "M5PLB3DgcjUh",
        "outputId": "a4a41b89-9c77-41b0-eece-b41d67a974d6"
      },
      "execution_count": null,
      "outputs": [
        {
          "output_type": "execute_result",
          "data": {
            "text/plain": [
              "[]"
            ]
          },
          "metadata": {},
          "execution_count": 17
        }
      ]
    },
    {
      "cell_type": "code",
      "source": [
        "y[6:7:1]"
      ],
      "metadata": {
        "colab": {
          "base_uri": "https://localhost:8080/"
        },
        "id": "ctls9H6Xcm9a",
        "outputId": "f8df3338-f515-4094-8300-f23b0456ba47"
      },
      "execution_count": null,
      "outputs": [
        {
          "output_type": "execute_result",
          "data": {
            "text/plain": [
              "[]"
            ]
          },
          "metadata": {},
          "execution_count": 18
        }
      ]
    },
    {
      "cell_type": "code",
      "source": [
        "# here \"1\" is called state-size\n",
        "y[0:6:1]"
      ],
      "metadata": {
        "colab": {
          "base_uri": "https://localhost:8080/"
        },
        "id": "GZll9wUdcqJU",
        "outputId": "ebe470a3-b575-4a10-a9f1-c9ceaefccdd2"
      },
      "execution_count": null,
      "outputs": [
        {
          "output_type": "execute_result",
          "data": {
            "text/plain": [
              "[465, 'Hyderabad', 19, True, 150.9, 'NewYork']"
            ]
          },
          "metadata": {},
          "execution_count": 20
        }
      ]
    },
    {
      "cell_type": "code",
      "source": [
        "y[1:3:4]"
      ],
      "metadata": {
        "id": "U3YsoiZVctZm",
        "colab": {
          "base_uri": "https://localhost:8080/"
        },
        "outputId": "967e3f8b-15de-4713-f30f-71c720ef2d4b"
      },
      "execution_count": null,
      "outputs": [
        {
          "output_type": "execute_result",
          "data": {
            "text/plain": [
              "['Hyderabad']"
            ]
          },
          "metadata": {},
          "execution_count": 21
        }
      ]
    },
    {
      "cell_type": "code",
      "source": [
        "y[1:7:3]"
      ],
      "metadata": {
        "colab": {
          "base_uri": "https://localhost:8080/"
        },
        "id": "gJv9GjW3dZYE",
        "outputId": "dfd435e0-bf9d-49e1-9f6b-35f7f5270e62"
      },
      "execution_count": null,
      "outputs": [
        {
          "output_type": "execute_result",
          "data": {
            "text/plain": [
              "['Hyderabad', 150.9]"
            ]
          },
          "metadata": {},
          "execution_count": 22
        }
      ]
    },
    {
      "cell_type": "code",
      "source": [
        "y[1:2:3]"
      ],
      "metadata": {
        "colab": {
          "base_uri": "https://localhost:8080/"
        },
        "id": "MKCMzcF4dd6k",
        "outputId": "19f4300e-dc80-45c4-d6f5-3a4dba42cdde"
      },
      "execution_count": null,
      "outputs": [
        {
          "output_type": "execute_result",
          "data": {
            "text/plain": [
              "['Hyderabad']"
            ]
          },
          "metadata": {},
          "execution_count": 23
        }
      ]
    },
    {
      "cell_type": "code",
      "source": [
        "y[3:2:1]"
      ],
      "metadata": {
        "colab": {
          "base_uri": "https://localhost:8080/"
        },
        "id": "SVt8GwZqdg6q",
        "outputId": "79b1bdfd-b73c-4c99-95a9-cb93f2ed9b28"
      },
      "execution_count": null,
      "outputs": [
        {
          "output_type": "execute_result",
          "data": {
            "text/plain": [
              "[]"
            ]
          },
          "metadata": {},
          "execution_count": 24
        }
      ]
    },
    {
      "cell_type": "code",
      "source": [
        "y[1:-5:-1]"
      ],
      "metadata": {
        "colab": {
          "base_uri": "https://localhost:8080/"
        },
        "id": "wiW46XvFdjiU",
        "outputId": "b33490ce-ddba-4de0-a2be-74c4767b1b47"
      },
      "execution_count": null,
      "outputs": [
        {
          "output_type": "execute_result",
          "data": {
            "text/plain": [
              "[]"
            ]
          },
          "metadata": {},
          "execution_count": 25
        }
      ]
    },
    {
      "cell_type": "code",
      "source": [
        "y[-2:2]"
      ],
      "metadata": {
        "colab": {
          "base_uri": "https://localhost:8080/"
        },
        "id": "koEEGLiBdnq2",
        "outputId": "1c22ff19-9ce5-4884-9b79-0bc8bf3328a3"
      },
      "execution_count": null,
      "outputs": [
        {
          "output_type": "execute_result",
          "data": {
            "text/plain": [
              "[]"
            ]
          },
          "metadata": {},
          "execution_count": 26
        }
      ]
    },
    {
      "cell_type": "code",
      "source": [
        "y[2:-2]"
      ],
      "metadata": {
        "colab": {
          "base_uri": "https://localhost:8080/"
        },
        "id": "WtqoR73te8P3",
        "outputId": "c3ee53be-6941-412b-d29b-ece1e0bf89fa"
      },
      "execution_count": null,
      "outputs": [
        {
          "output_type": "execute_result",
          "data": {
            "text/plain": [
              "[19, True]"
            ]
          },
          "metadata": {},
          "execution_count": 27
        }
      ]
    },
    {
      "cell_type": "code",
      "source": [
        "y[7:-5]"
      ],
      "metadata": {
        "colab": {
          "base_uri": "https://localhost:8080/"
        },
        "id": "FioMHdV9e-fa",
        "outputId": "2e9abb00-70e1-4f10-d38d-303c2ef8c229"
      },
      "execution_count": null,
      "outputs": [
        {
          "output_type": "execute_result",
          "data": {
            "text/plain": [
              "[]"
            ]
          },
          "metadata": {},
          "execution_count": 28
        }
      ]
    },
    {
      "cell_type": "code",
      "source": [
        "y.append(72)\n"
      ],
      "metadata": {
        "id": "mYQLdL-9fHW1"
      },
      "execution_count": null,
      "outputs": []
    },
    {
      "cell_type": "code",
      "source": [
        "y"
      ],
      "metadata": {
        "colab": {
          "base_uri": "https://localhost:8080/"
        },
        "id": "RQ_aoJQhgmMt",
        "outputId": "2cc9b25b-1323-43b5-bf14-9de30a7f6427"
      },
      "execution_count": null,
      "outputs": [
        {
          "output_type": "execute_result",
          "data": {
            "text/plain": [
              "[465, 'Hyderabad', 19, True, 150.9, 'NewYork', 72, 72, 72, 72]"
            ]
          },
          "metadata": {},
          "execution_count": 35
        }
      ]
    },
    {
      "cell_type": "code",
      "source": [
        "y.append(90)"
      ],
      "metadata": {
        "id": "WYJyaAfdg4ub"
      },
      "execution_count": null,
      "outputs": []
    },
    {
      "cell_type": "code",
      "source": [
        "y"
      ],
      "metadata": {
        "colab": {
          "base_uri": "https://localhost:8080/"
        },
        "id": "cVnbexqihAvA",
        "outputId": "9d35988d-2960-4681-c081-db0360f2b851"
      },
      "execution_count": null,
      "outputs": [
        {
          "output_type": "execute_result",
          "data": {
            "text/plain": [
              "[465, 'Hyderabad', 19, True, 150.9, 'NewYork', 72, 72, 72, 72, 90]"
            ]
          },
          "metadata": {},
          "execution_count": 38
        }
      ]
    },
    {
      "cell_type": "code",
      "source": [
        "y.insert(4,90)"
      ],
      "metadata": {
        "id": "txNEWEW9hDw_"
      },
      "execution_count": null,
      "outputs": []
    },
    {
      "cell_type": "code",
      "source": [
        "y"
      ],
      "metadata": {
        "colab": {
          "base_uri": "https://localhost:8080/"
        },
        "id": "khvsWnDuhLtZ",
        "outputId": "f36d1105-afd6-48db-803a-b7704e404e7d"
      },
      "execution_count": null,
      "outputs": [
        {
          "output_type": "execute_result",
          "data": {
            "text/plain": [
              "[465, 'Hyderabad', 19, True, 90, 150.9, 'NewYork', 72, 72, 72, 72, 90]"
            ]
          },
          "metadata": {},
          "execution_count": 41
        }
      ]
    },
    {
      "cell_type": "code",
      "source": [
        "y.insert(2,'hyderbad')"
      ],
      "metadata": {
        "id": "EXh-nqzPhPIk"
      },
      "execution_count": null,
      "outputs": []
    },
    {
      "cell_type": "code",
      "source": [
        "y"
      ],
      "metadata": {
        "colab": {
          "base_uri": "https://localhost:8080/"
        },
        "id": "2r7s1cXthbyE",
        "outputId": "6daa7ea1-b56d-49db-c293-8ae61b20648a"
      },
      "execution_count": null,
      "outputs": [
        {
          "output_type": "execute_result",
          "data": {
            "text/plain": [
              "[465,\n",
              " 'Hyderabad',\n",
              " 'hyderbad',\n",
              " 6,\n",
              " 19,\n",
              " True,\n",
              " 90,\n",
              " 150.9,\n",
              " 'NewYork',\n",
              " 72,\n",
              " 72,\n",
              " 72,\n",
              " 72,\n",
              " 90]"
            ]
          },
          "metadata": {},
          "execution_count": 45
        }
      ]
    },
    {
      "cell_type": "code",
      "source": [
        "print(y)"
      ],
      "metadata": {
        "colab": {
          "base_uri": "https://localhost:8080/"
        },
        "id": "ye6MT7JGhcyW",
        "outputId": "b4fb6723-3469-41b6-e1b7-8760f0221697"
      },
      "execution_count": null,
      "outputs": [
        {
          "output_type": "stream",
          "name": "stdout",
          "text": [
            "[465, 'Hyderabad', 'hyderbad', 6, 19, True, 90, 150.9, 'NewYork', 72, 72, 72, 72, 90]\n"
          ]
        }
      ]
    },
    {
      "cell_type": "code",
      "source": [
        "y.pop(9)"
      ],
      "metadata": {
        "colab": {
          "base_uri": "https://localhost:8080/"
        },
        "id": "-8pQ1yTwhqzo",
        "outputId": "4afe2cf7-d97b-4acb-bc2f-5f3142f58040"
      },
      "execution_count": null,
      "outputs": [
        {
          "output_type": "execute_result",
          "data": {
            "text/plain": [
              "72"
            ]
          },
          "metadata": {},
          "execution_count": 48
        }
      ]
    },
    {
      "cell_type": "code",
      "source": [
        "print(y)"
      ],
      "metadata": {
        "colab": {
          "base_uri": "https://localhost:8080/"
        },
        "id": "NtiYAYvviKih",
        "outputId": "65b7ce83-68ff-49b6-ad70-49fa35d73f00"
      },
      "execution_count": null,
      "outputs": [
        {
          "output_type": "stream",
          "name": "stdout",
          "text": [
            "[465, 'Hyderabad', 'hyderbad', 6, 19, True, 90, 150.9, 'NewYork', 72, 72, 72, 90]\n"
          ]
        }
      ]
    },
    {
      "cell_type": "code",
      "source": [
        "y.pop(12)"
      ],
      "metadata": {
        "colab": {
          "base_uri": "https://localhost:8080/"
        },
        "id": "dHaIMSdTiQPZ",
        "outputId": "e97f1530-fd16-44ad-a8d1-3c7d1b430ffe"
      },
      "execution_count": null,
      "outputs": [
        {
          "output_type": "execute_result",
          "data": {
            "text/plain": [
              "90"
            ]
          },
          "metadata": {},
          "execution_count": 51
        }
      ]
    },
    {
      "cell_type": "code",
      "source": [
        "#mention the index number you wanted to pop\n",
        "y.pop(4)"
      ],
      "metadata": {
        "colab": {
          "base_uri": "https://localhost:8080/"
        },
        "id": "R5pNbtwKiTSq",
        "outputId": "5c4dbe3c-78de-4ed2-c3b1-f020d4c2ee6b"
      },
      "execution_count": null,
      "outputs": [
        {
          "output_type": "execute_result",
          "data": {
            "text/plain": [
              "True"
            ]
          },
          "metadata": {},
          "execution_count": 60
        }
      ]
    },
    {
      "cell_type": "code",
      "source": [
        "print(y)"
      ],
      "metadata": {
        "colab": {
          "base_uri": "https://localhost:8080/"
        },
        "id": "xO_xKTN0ibtB",
        "outputId": "fb6e0c04-1171-4469-d904-52db67f3f224"
      },
      "execution_count": null,
      "outputs": [
        {
          "output_type": "stream",
          "name": "stdout",
          "text": [
            "[465, 'Hyderabad', 'hyderbad', 6, 19, True, 90, 150.9, 'NewYork', 72, 72]\n"
          ]
        }
      ]
    },
    {
      "cell_type": "code",
      "source": [
        "y.remove('hyderbad')"
      ],
      "metadata": {
        "id": "ZEEkjDPUihSh"
      },
      "execution_count": null,
      "outputs": []
    },
    {
      "cell_type": "code",
      "source": [
        "print(y)"
      ],
      "metadata": {
        "colab": {
          "base_uri": "https://localhost:8080/"
        },
        "id": "TKWTnbFsinYk",
        "outputId": "49a33e89-7e3e-4a93-88de-ec2e80a1e94d"
      },
      "execution_count": null,
      "outputs": [
        {
          "output_type": "stream",
          "name": "stdout",
          "text": [
            "[465, 'Hyderabad', 6, 19, True, 90, 150.9, 'NewYork', 72, 72]\n"
          ]
        }
      ]
    },
    {
      "cell_type": "code",
      "source": [
        "y.remove(72)"
      ],
      "metadata": {
        "id": "75_KuctXirvY"
      },
      "execution_count": null,
      "outputs": []
    },
    {
      "cell_type": "code",
      "source": [
        "print(y)"
      ],
      "metadata": {
        "colab": {
          "base_uri": "https://localhost:8080/"
        },
        "id": "sKg6wYJDivQl",
        "outputId": "31a3292d-3cbf-486a-8241-89c3dab22cd7"
      },
      "execution_count": null,
      "outputs": [
        {
          "output_type": "stream",
          "name": "stdout",
          "text": [
            "[465, 'Hyderabad', 6, 19, 90, 150.9, 'NewYork', 72]\n"
          ]
        }
      ]
    },
    {
      "cell_type": "code",
      "source": [
        "y.count(72)"
      ],
      "metadata": {
        "colab": {
          "base_uri": "https://localhost:8080/"
        },
        "id": "iJp-H7fvi-ZU",
        "outputId": "01246bd1-561c-47fc-87f4-bbd01dd893ee"
      },
      "execution_count": null,
      "outputs": [
        {
          "output_type": "execute_result",
          "data": {
            "text/plain": [
              "1"
            ]
          },
          "metadata": {},
          "execution_count": 62
        }
      ]
    },
    {
      "cell_type": "code",
      "source": [
        "y.count(465)"
      ],
      "metadata": {
        "colab": {
          "base_uri": "https://localhost:8080/"
        },
        "id": "LdN6rPxGjBYb",
        "outputId": "50265f1c-74a1-4c2a-9b28-d28116571ec4"
      },
      "execution_count": null,
      "outputs": [
        {
          "output_type": "execute_result",
          "data": {
            "text/plain": [
              "1"
            ]
          },
          "metadata": {},
          "execution_count": 63
        }
      ]
    },
    {
      "cell_type": "code",
      "source": [
        "y.count('tae')"
      ],
      "metadata": {
        "colab": {
          "base_uri": "https://localhost:8080/"
        },
        "id": "m3KPSBt4jE06",
        "outputId": "a03bb11e-a2bd-4982-aae5-3e9a8ecc2322"
      },
      "execution_count": null,
      "outputs": [
        {
          "output_type": "execute_result",
          "data": {
            "text/plain": [
              "0"
            ]
          },
          "metadata": {},
          "execution_count": 65
        }
      ]
    },
    {
      "cell_type": "code",
      "source": [
        "y.append(465)"
      ],
      "metadata": {
        "id": "c9Ppmx1DjJCy"
      },
      "execution_count": null,
      "outputs": []
    },
    {
      "cell_type": "code",
      "source": [
        "#since append only adds one value you eill use extend function\n",
        "y.extend([465,73])"
      ],
      "metadata": {
        "id": "lSGkeN7WjTMO"
      },
      "execution_count": null,
      "outputs": []
    },
    {
      "cell_type": "code",
      "source": [
        "print(y)"
      ],
      "metadata": {
        "colab": {
          "base_uri": "https://localhost:8080/"
        },
        "id": "0n0QZzjRjoEX",
        "outputId": "1328674b-a6f4-4ff5-897f-087977f9fa35"
      },
      "execution_count": null,
      "outputs": [
        {
          "output_type": "stream",
          "name": "stdout",
          "text": [
            "[465, 'Hyderabad', 6, 19, 90, 150.9, 'NewYork', 72, 465, 465, 73, 465, 73]\n"
          ]
        }
      ]
    },
    {
      "cell_type": "code",
      "source": [
        "y.extend(a)"
      ],
      "metadata": {
        "id": "ZSaOye_4jwxT"
      },
      "execution_count": null,
      "outputs": []
    },
    {
      "cell_type": "code",
      "source": [
        "print(y)"
      ],
      "metadata": {
        "colab": {
          "base_uri": "https://localhost:8080/"
        },
        "id": "MdDx8G5hj3yz",
        "outputId": "575a728a-9494-45e8-efc7-26af1710f614"
      },
      "execution_count": null,
      "outputs": [
        {
          "output_type": "stream",
          "name": "stdout",
          "text": [
            "[465, 'Hyderabad', 6, 19, 90, 150.9, 'NewYork', 72, 465, 465, 73, 465, 73, 44, 76, 55, 85, 95, 23]\n"
          ]
        }
      ]
    },
    {
      "cell_type": "code",
      "source": [
        "y + a"
      ],
      "metadata": {
        "colab": {
          "base_uri": "https://localhost:8080/"
        },
        "id": "yFO5lMFTj7xa",
        "outputId": "ecf6989b-99b1-490c-b733-eb6db4860df2"
      },
      "execution_count": null,
      "outputs": [
        {
          "output_type": "execute_result",
          "data": {
            "text/plain": [
              "[465,\n",
              " 'Hyderabad',\n",
              " 6,\n",
              " 19,\n",
              " 90,\n",
              " 150.9,\n",
              " 'NewYork',\n",
              " 72,\n",
              " 465,\n",
              " 465,\n",
              " 73,\n",
              " 465,\n",
              " 73,\n",
              " 44,\n",
              " 76,\n",
              " 55,\n",
              " 85,\n",
              " 95,\n",
              " 23,\n",
              " 44,\n",
              " 76,\n",
              " 55,\n",
              " 85,\n",
              " 95,\n",
              " 23]"
            ]
          },
          "metadata": {},
          "execution_count": 77
        }
      ]
    },
    {
      "cell_type": "code",
      "source": [
        "print(y + a)"
      ],
      "metadata": {
        "colab": {
          "base_uri": "https://localhost:8080/"
        },
        "id": "6syG-aUwkVrH",
        "outputId": "ce4a71bc-8d4d-4eba-d0dc-7465a1c4022f"
      },
      "execution_count": null,
      "outputs": [
        {
          "output_type": "stream",
          "name": "stdout",
          "text": [
            "[465, 'Hyderabad', 6, 19, 90, 150.9, 'NewYork', 72, 465, 465, 73, 465, 73, 44, 76, 55, 85, 95, 23, 44, 76, 55, 85, 95, 23]\n"
          ]
        }
      ]
    },
    {
      "cell_type": "code",
      "source": [
        "a.extend(y)"
      ],
      "metadata": {
        "id": "4gSr-FiXkYVp"
      },
      "execution_count": null,
      "outputs": []
    },
    {
      "cell_type": "code",
      "source": [
        "print(a + y)"
      ],
      "metadata": {
        "colab": {
          "base_uri": "https://localhost:8080/"
        },
        "id": "FiMqy-V5kghk",
        "outputId": "4f60c42d-3bc5-4564-9086-29982dc14a40"
      },
      "execution_count": null,
      "outputs": [
        {
          "output_type": "stream",
          "name": "stdout",
          "text": [
            "[44, 76, 55, 85, 95, 23, 465, 'Hyderabad', 6, 19, 90, 150.9, 'NewYork', 72, 465, 465, 73, 465, 73, 44, 76, 55, 85, 95, 23, 465, 'Hyderabad', 6, 19, 90, 150.9, 'NewYork', 72, 465, 465, 73, 465, 73, 44, 76, 55, 85, 95, 23]\n"
          ]
        }
      ]
    },
    {
      "cell_type": "code",
      "source": [
        "V = ['Taehyung','vinny',7,'seoul','LA']"
      ],
      "metadata": {
        "id": "EajDRkKXkkk3"
      },
      "execution_count": null,
      "outputs": []
    },
    {
      "cell_type": "code",
      "source": [
        "V"
      ],
      "metadata": {
        "colab": {
          "base_uri": "https://localhost:8080/"
        },
        "id": "14wZp42pk7wB",
        "outputId": "14303a2d-d2e7-49be-adbb-e935a5c2ea25"
      },
      "execution_count": null,
      "outputs": [
        {
          "output_type": "execute_result",
          "data": {
            "text/plain": [
              "['Taehyung', 'vinny', 7, 'seoul', 'LA']"
            ]
          },
          "metadata": {},
          "execution_count": 82
        }
      ]
    },
    {
      "cell_type": "code",
      "source": [
        "V.append('newyork')"
      ],
      "metadata": {
        "id": "I8DTMWlHk9tr"
      },
      "execution_count": null,
      "outputs": []
    },
    {
      "cell_type": "code",
      "source": [
        "V"
      ],
      "metadata": {
        "colab": {
          "base_uri": "https://localhost:8080/"
        },
        "id": "iGHH0UMXlHw7",
        "outputId": "1bc83178-bdd4-425b-df2e-585fe69459fb"
      },
      "execution_count": null,
      "outputs": [
        {
          "output_type": "execute_result",
          "data": {
            "text/plain": [
              "['Taehyung', 'vinny', 7, 'seoul', 'LA', 'newyork']"
            ]
          },
          "metadata": {},
          "execution_count": 84
        }
      ]
    },
    {
      "cell_type": "code",
      "source": [
        "V.remove(7)"
      ],
      "metadata": {
        "id": "ovVvwLzklJGv"
      },
      "execution_count": null,
      "outputs": []
    },
    {
      "cell_type": "code",
      "source": [
        "V"
      ],
      "metadata": {
        "colab": {
          "base_uri": "https://localhost:8080/"
        },
        "id": "ebdZ4cOElR2l",
        "outputId": "af613718-2f87-419d-ea5b-1e94d19ab7c2"
      },
      "execution_count": null,
      "outputs": [
        {
          "output_type": "execute_result",
          "data": {
            "text/plain": [
              "['Taehyung', 'vinny', 'seoul', 'LA', 'newyork']"
            ]
          },
          "metadata": {},
          "execution_count": 86
        }
      ]
    },
    {
      "cell_type": "code",
      "source": [
        "V.count('vinny')"
      ],
      "metadata": {
        "colab": {
          "base_uri": "https://localhost:8080/"
        },
        "id": "VDkobvlhlTNR",
        "outputId": "0e4bcfbd-e259-4304-ed07-1f09d91f41dd"
      },
      "execution_count": null,
      "outputs": [
        {
          "output_type": "execute_result",
          "data": {
            "text/plain": [
              "1"
            ]
          },
          "metadata": {},
          "execution_count": 87
        }
      ]
    },
    {
      "cell_type": "code",
      "source": [
        "V.insert(3,5)"
      ],
      "metadata": {
        "id": "XVA5iL1vlXTk"
      },
      "execution_count": null,
      "outputs": []
    },
    {
      "cell_type": "code",
      "source": [
        "V"
      ],
      "metadata": {
        "colab": {
          "base_uri": "https://localhost:8080/"
        },
        "id": "KHViHEFzldDu",
        "outputId": "b032d76d-b6aa-47b1-bbd3-06f032bdecd8"
      },
      "execution_count": null,
      "outputs": [
        {
          "output_type": "execute_result",
          "data": {
            "text/plain": [
              "['Taehyung', 'vinny', 'seoul', 5, 'LA', 'newyork']"
            ]
          },
          "metadata": {},
          "execution_count": 91
        }
      ]
    },
    {
      "cell_type": "code",
      "source": [
        "V.extend([5,3])"
      ],
      "metadata": {
        "id": "RqTRMdBnlpn-"
      },
      "execution_count": null,
      "outputs": []
    },
    {
      "cell_type": "code",
      "source": [
        "V"
      ],
      "metadata": {
        "colab": {
          "base_uri": "https://localhost:8080/"
        },
        "id": "C3BIWHzZlxSk",
        "outputId": "6a1863e4-0c16-4192-954a-edeaa69c3f80"
      },
      "execution_count": null,
      "outputs": [
        {
          "output_type": "execute_result",
          "data": {
            "text/plain": [
              "['Taehyung', 'vinny', 'seoul', 5, 'LA', 'newyork', 5, 3]"
            ]
          },
          "metadata": {},
          "execution_count": 93
        }
      ]
    },
    {
      "cell_type": "code",
      "source": [
        "V.pop(5)"
      ],
      "metadata": {
        "colab": {
          "base_uri": "https://localhost:8080/",
          "height": 35
        },
        "id": "vgbYYfsSlyXI",
        "outputId": "1fdbed1d-dc42-4c28-f5d7-3a19f4a604fd"
      },
      "execution_count": null,
      "outputs": [
        {
          "output_type": "execute_result",
          "data": {
            "text/plain": [
              "'newyork'"
            ],
            "application/vnd.google.colaboratory.intrinsic+json": {
              "type": "string"
            }
          },
          "metadata": {},
          "execution_count": 96
        }
      ]
    },
    {
      "cell_type": "code",
      "source": [
        "V.remove(5)"
      ],
      "metadata": {
        "id": "P1Nbfqmyl22M"
      },
      "execution_count": null,
      "outputs": []
    },
    {
      "cell_type": "code",
      "source": [
        "V"
      ],
      "metadata": {
        "colab": {
          "base_uri": "https://localhost:8080/"
        },
        "id": "2emz31LemFGw",
        "outputId": "18cef05c-2d2e-437f-8857-c61902b921e9"
      },
      "execution_count": null,
      "outputs": [
        {
          "output_type": "execute_result",
          "data": {
            "text/plain": [
              "['Taehyung', 'vinny', 'seoul', 'LA', 5, 3]"
            ]
          },
          "metadata": {},
          "execution_count": 98
        }
      ]
    },
    {
      "cell_type": "code",
      "source": [
        "V.remove(3)"
      ],
      "metadata": {
        "id": "cA5IK1yrmGDl"
      },
      "execution_count": null,
      "outputs": []
    },
    {
      "cell_type": "code",
      "source": [
        "V"
      ],
      "metadata": {
        "colab": {
          "base_uri": "https://localhost:8080/"
        },
        "id": "yofDIji9mJGz",
        "outputId": "49efd6e2-9327-4c76-b44c-3d15e4aa4b3b"
      },
      "execution_count": null,
      "outputs": [
        {
          "output_type": "execute_result",
          "data": {
            "text/plain": [
              "['Taehyung', 'vinny', 'seoul', 'LA', 5]"
            ]
          },
          "metadata": {},
          "execution_count": 100
        }
      ]
    },
    {
      "cell_type": "code",
      "source": [
        "V.remove(5)"
      ],
      "metadata": {
        "id": "WL820BAcmKEK"
      },
      "execution_count": null,
      "outputs": []
    },
    {
      "cell_type": "code",
      "source": [
        "V"
      ],
      "metadata": {
        "colab": {
          "base_uri": "https://localhost:8080/"
        },
        "id": "vdho2sl9mRcq",
        "outputId": "456b0e99-dd6f-473f-bf9e-bf2969cf8f6b"
      },
      "execution_count": null,
      "outputs": [
        {
          "output_type": "execute_result",
          "data": {
            "text/plain": [
              "['Taehyung', 'vinny', 'seoul', 'LA']"
            ]
          },
          "metadata": {},
          "execution_count": 102
        }
      ]
    },
    {
      "cell_type": "code",
      "source": [],
      "metadata": {
        "id": "LKcPC68TmSHq"
      },
      "execution_count": null,
      "outputs": []
    }
  ]
}